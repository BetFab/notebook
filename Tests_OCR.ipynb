{
 "cells": [
  {
   "cell_type": "markdown",
   "metadata": {},
   "source": [
    "### OCR Letter sequence recognition test"
   ]
  },
  {
   "cell_type": "markdown",
   "metadata": {},
   "source": [
    "#### Import de lib"
   ]
  },
  {
   "cell_type": "code",
   "execution_count": 82,
   "metadata": {},
   "outputs": [],
   "source": [
    "import numpy as np\n",
    "import matplotlib.pyplot as plt"
   ]
  },
  {
   "cell_type": "markdown",
   "metadata": {},
   "source": [
    "#### Dataset"
   ]
  },
  {
   "cell_type": "code",
   "execution_count": 83,
   "metadata": {},
   "outputs": [],
   "source": [
    "from pystruct.datasets import load_letters"
   ]
  },
  {
   "cell_type": "code",
   "execution_count": 84,
   "metadata": {},
   "outputs": [],
   "source": [
    "abc = \"abcdefghijklmnopqrstuvwxyz\"\n",
    "letters = load_letters()\n",
    "X, y, folds = letters['data'], letters['labels'], letters['folds']\n",
    "X, y = np.array(X), np.array(y)\n",
    "X_train, X_test = X[folds == 1], X[folds != 1]\n",
    "y_train, y_test = y[folds == 1], y[folds != 1]"
   ]
  },
  {
   "cell_type": "code",
   "execution_count": 85,
   "metadata": {},
   "outputs": [
    {
     "name": "stdout",
     "output_type": "stream",
     "text": [
      "X_train shape : (704,)\n",
      "X_test shape : (6173,)\n",
      "----------------------------------------------\n",
      "Exemple sequence : \n",
      "image : [0 0 0 0 0 0 0 0 0 0 0 0 0 0 0 0 0 1 1 0 0 0 0 0 1 1 1 1 1 1 1 0 0 1 0 0 0\n",
      " 0 0 1 0 1 0 0 0 0 0 1 1 1 0 0 0 0 0 1 1 0 0 0 0 0 0 1 1 0 0 0 0 0 0 1 1 0\n",
      " 0 0 0 0 1 1 1 0 0 0 0 0 1 0 1 0 0 0 0 1 1 0 1 0 0 0 1 1 0 0 1 1 1 1 1 0 0\n",
      " 0 0 0 0 0 0 0 0 0 0 0 0 0 0 0 0 0] - label : 14 -> o\n",
      "image : [0 0 0 0 0 0 0 0 0 0 0 0 0 0 0 0 0 0 0 0 0 0 0 0 0 0 0 0 0 0 0 0 1 0 0 0 0\n",
      " 0 0 0 1 0 0 0 0 0 0 0 1 0 1 1 0 0 0 0 1 0 1 1 1 0 1 1 1 0 1 0 1 1 1 1 1 1\n",
      " 1 0 1 1 0 1 0 1 1 0 1 0 0 1 0 1 0 0 0 0 0 0 0 0 0 0 0 0 0 0 0 0 0 0 0 0 0\n",
      " 0 0 0 0 0 0 0 0 0 0 0 0 0 0 0 0 0] - label : 12 -> m\n",
      "image : [0 0 0 0 0 0 0 0 0 0 0 0 0 0 0 0 0 0 0 0 0 0 0 0 0 0 0 0 0 0 0 0 0 0 0 0 0\n",
      " 0 0 0 1 0 0 0 0 0 0 0 1 0 1 1 0 0 1 0 1 0 1 1 0 1 1 1 1 1 1 1 1 1 0 1 1 1\n",
      " 0 0 1 1 0 1 0 1 0 0 1 0 0 1 0 0 0 0 0 0 0 0 0 0 0 0 0 0 0 0 0 0 0 0 0 0 0\n",
      " 0 0 0 0 0 0 0 0 0 0 0 0 0 0 0 0 0] - label : 12 -> m\n",
      "image : [0 0 0 0 0 0 0 0 0 0 0 0 0 0 0 0 0 0 0 0 0 0 0 0 0 0 0 1 1 1 1 0 0 1 1 1 0\n",
      " 1 1 1 1 1 0 0 0 1 1 0 1 0 0 0 0 1 1 0 1 0 0 0 1 1 1 0 1 0 0 0 1 0 1 0 1 0\n",
      " 0 1 1 0 1 1 1 0 1 1 0 0 0 1 1 1 1 0 0 0 0 1 0 0 0 0 0 0 0 1 0 0 0 0 0 0 0\n",
      " 0 0 0 0 0 0 0 0 0 0 0 0 0 0 0 0 0] - label : 0 -> a\n",
      "image : [0 0 0 0 0 0 0 0 0 0 0 0 0 0 0 0 0 0 0 0 0 0 0 0 0 0 0 0 0 0 0 0 0 0 0 0 0\n",
      " 0 0 0 1 0 0 0 1 1 1 0 1 0 0 0 1 0 1 0 1 0 0 0 1 0 1 0 1 0 0 1 1 0 1 1 1 1\n",
      " 1 1 0 0 0 1 0 1 1 0 0 0 0 1 0 0 0 0 0 0 0 0 0 0 0 0 0 0 0 0 0 0 0 0 0 0 0\n",
      " 0 0 0 0 0 0 0 0 0 0 0 0 0 0 0 0 0] - label : 13 -> n\n",
      "image : [0 0 0 0 0 0 0 0 0 0 0 0 1 1 0 0 0 0 0 0 1 0 0 0 0 0 0 0 1 0 0 0 0 0 0 0 1\n",
      " 0 0 0 0 0 0 0 1 0 0 0 0 0 0 0 1 0 0 0 0 0 0 0 1 0 0 0 0 0 0 0 1 1 0 0 0 0\n",
      " 0 0 0 1 0 0 1 1 1 1 1 1 0 0 1 0 0 0 1 1 0 0 1 0 0 0 1 1 0 0 1 1 0 0 0 1 0\n",
      " 0 0 1 1 1 1 1 1 1 0 0 0 0 0 0 0 0] - label : 3 -> d\n",
      "image : [0 0 0 1 0 0 0 0 0 0 0 1 1 0 0 0 0 0 0 0 0 0 0 0 0 0 0 0 0 0 0 0 0 0 0 1 0\n",
      " 0 0 0 0 0 0 1 0 0 0 0 0 0 0 1 0 0 0 0 0 0 0 1 0 0 0 0 0 0 0 1 0 0 0 0 0 0\n",
      " 0 1 0 0 0 0 0 0 0 1 0 0 0 0 0 0 0 1 0 0 0 0 0 0 0 1 0 0 0 0 0 0 0 1 0 0 0\n",
      " 0 0 0 0 0 1 0 0 0 0 0 0 0 1 0 0 0] - label : 8 -> i\n",
      "image : [0 0 0 0 0 0 0 0 0 0 0 0 0 0 0 0 0 0 0 0 0 0 0 0 0 0 0 0 0 0 0 0 1 0 0 0 0\n",
      " 0 0 0 1 0 0 0 0 1 0 0 1 0 0 0 1 1 1 0 1 0 0 0 1 0 1 0 1 0 0 1 1 0 1 0 1 0\n",
      " 0 1 0 0 1 0 1 1 1 1 0 0 1 1 0 1 1 0 0 0 0 1 0 0 0 0 0 0 0 0 0 0 0 0 0 0 0\n",
      " 0 0 0 0 0 0 0 0 0 0 0 0 0 0 0 0 0] - label : 13 -> n\n",
      "image : [0 0 1 1 1 1 1 1 0 1 1 0 0 0 1 1 1 1 0 0 0 0 1 1 1 0 0 0 0 0 1 0 1 0 0 0 0\n",
      " 1 1 0 1 1 0 0 1 1 1 0 0 1 1 1 1 0 1 1 0 0 0 0 0 0 0 1 0 0 0 0 0 0 0 1 0 0\n",
      " 0 0 0 0 0 1 0 0 0 1 0 0 0 1 0 0 0 1 0 0 0 1 0 0 0 1 1 0 0 1 0 0 0 0 1 1 0\n",
      " 1 0 0 0 0 0 1 1 1 0 0 0 0 0 0 1 1] - label : 6 -> g\n"
     ]
    }
   ],
   "source": [
    "print(\"X_train shape : {}\".format(X_train.shape))\n",
    "print(\"X_test shape : {}\".format(X_test.shape))\n",
    "print(\"----------------------------------------------\")\n",
    "print(\"Exemple sequence : \")\n",
    "for i, img in enumerate(X_train[0]):\n",
    "    print(\"image : {} - label : {} -> {}\".format(X_train[0][i], y_train[0][i], abc[y_train[0][i]]))"
   ]
  },
  {
   "cell_type": "code",
   "execution_count": 86,
   "metadata": {},
   "outputs": [
    {
     "data": {
      "image/png": "[encoded data removed]",
      "text/plain": [
       "<Figure size 720x720 with 32 Axes>"
      ]
     },
     "metadata": {
      "needs_background": "light"
     },
     "output_type": "display_data"
    }
   ],
   "source": [
    "# plot some word sequenced\n",
    "n_words = 4\n",
    "rnd = np.random.RandomState(1)\n",
    "selected = rnd.randint(len(y_test), size=n_words)\n",
    "max_word_len = max([len(y_) for y_ in y_test[selected]])\n",
    "fig, axes = plt.subplots(n_words, max_word_len, figsize=(10, 10))\n",
    "fig.subplots_adjust(wspace=0)\n",
    "for ind, axes_row in zip(selected, axes):\n",
    "    for i, (a, image, y_true) in enumerate(\n",
    "            zip(axes_row, X_test[ind], y_test[ind])):\n",
    "        a.matshow(image.reshape(16, 8), cmap=plt.cm.Greys)\n",
    "        a.text(0, 3, abc[y_true], color=\"#00AA00\", size=25)\n",
    "        a.set_xticks(())\n",
    "        a.set_yticks(())\n",
    "    for ii in range(i + 1, max_word_len):\n",
    "        axes_row[ii].set_visible(False)\n",
    "plt.show()\n"
   ]
  },
  {
   "cell_type": "markdown",
   "metadata": {},
   "source": [
    "### Pystruct Lib"
   ]
  },
  {
   "cell_type": "code",
   "execution_count": 87,
   "metadata": {},
   "outputs": [],
   "source": [
    "from pystruct.models import ChainCRF\n",
    "from pystruct.learners import FrankWolfeSSVM"
   ]
  },
  {
   "cell_type": "code",
   "execution_count": 88,
   "metadata": {},
   "outputs": [],
   "source": [
    "model = ChainCRF()\n",
    "ssvm = FrankWolfeSSVM(model=model, C=.1, max_iter=11)"
   ]
  },
  {
   "cell_type": "code",
   "execution_count": 89,
   "metadata": {},
   "outputs": [
    {
     "data": {
      "text/plain": [
       "FrankWolfeSSVM(C=0.1, batch_mode=False, check_dual_every=10,\n",
       "        do_averaging=True, line_search=True, logger=None, max_iter=11,\n",
       "        model=ChainCRF(n_states: 26, inference_method: max-product),\n",
       "        n_jobs=1, random_state=None, sample_method='perm',\n",
       "        show_loss_every=0, tol=0.001, verbose=0)"
      ]
     },
     "execution_count": 89,
     "metadata": {},
     "output_type": "execute_result"
    }
   ],
   "source": [
    "ssvm.fit(X_train, y_train)"
   ]
  },
  {
   "cell_type": "code",
   "execution_count": 90,
   "metadata": {},
   "outputs": [
    {
     "name": "stdout",
     "output_type": "stream",
     "text": [
      "Test score with chain CRF: 0.785279\n"
     ]
    }
   ],
   "source": [
    "print(\"Test score with chain CRF: %f\" % ssvm.score(X_test, y_test))"
   ]
  },
  {
   "cell_type": "markdown",
   "metadata": {},
   "source": [
    "### TensorFlow"
   ]
  },
  {
   "cell_type": "code",
   "execution_count": 91,
   "metadata": {},
   "outputs": [],
   "source": [
    "import tensorflow as tf"
   ]
  },
  {
   "cell_type": "code",
   "execution_count": 92,
   "metadata": {
    "scrolled": true
   },
   "outputs": [
    {
     "name": "stdout",
     "output_type": "stream",
     "text": [
      "X_train : (704,)\n",
      "X_test : (6173,)\n",
      "abc : abcdefghijklmnopqrstuvwxyz\n",
      "One image shape (num features) : (128,), (16x8)\n"
     ]
    }
   ],
   "source": [
    "print(\"X_train : {}\".format(X_train.shape))\n",
    "print(\"X_test : {}\".format(X_test.shape))\n",
    "print(\"abc : {}\".format(abc))\n",
    "print(\"One image shape (num features) : {}, (16x8)\".format(X[0][0].shape))"
   ]
  },
  {
   "cell_type": "code",
   "execution_count": 93,
   "metadata": {},
   "outputs": [
    {
     "data": {
      "text/plain": [
       "704"
      ]
     },
     "execution_count": 93,
     "metadata": {},
     "output_type": "execute_result"
    }
   ],
   "source": [
    "len(X_train)"
   ]
  },
  {
   "cell_type": "markdown",
   "metadata": {},
   "source": [
    "#### Reshape data for TensorFlow tensors"
   ]
  },
  {
   "cell_type": "markdown",
   "metadata": {},
   "source": [
    "max lenght of the sequence = 30"
   ]
  },
  {
   "cell_type": "code",
   "execution_count": 94,
   "metadata": {},
   "outputs": [],
   "source": [
    "max_len = 30"
   ]
  },
  {
   "cell_type": "code",
   "execution_count": 95,
   "metadata": {},
   "outputs": [
    {
     "data": {
      "text/plain": [
       "(704, 30, 128)"
      ]
     },
     "execution_count": 95,
     "metadata": {},
     "output_type": "execute_result"
    }
   ],
   "source": [
    "X_train_tf = np.zeros(shape=(len(X_train),max_len, len(X[0][0])), dtype=np.float32)\n",
    "X_train_tf = X_train_tf\n",
    "X_train_tf.shape"
   ]
  },
  {
   "cell_type": "code",
   "execution_count": 96,
   "metadata": {},
   "outputs": [],
   "source": [
    "for i,seq in enumerate(X_train):\n",
    "    X_train_tf[i,0:len(seq),:] = seq"
   ]
  },
  {
   "cell_type": "code",
   "execution_count": 97,
   "metadata": {},
   "outputs": [
    {
     "data": {
      "text/plain": [
       "(704, 30)"
      ]
     },
     "execution_count": 97,
     "metadata": {},
     "output_type": "execute_result"
    }
   ],
   "source": [
    "y_train_tf = np.zeros(shape=(len(y_train),max_len), dtype=np.int32)\n",
    "y_train_tf = y_train_tf +26\n",
    "y_train_tf.shape"
   ]
  },
  {
   "cell_type": "code",
   "execution_count": 98,
   "metadata": {},
   "outputs": [],
   "source": [
    "for i,target in enumerate(y_train):\n",
    "    y_train_tf[i,0:len(target)] = target"
   ]
  },
  {
   "cell_type": "code",
   "execution_count": 99,
   "metadata": {
    "scrolled": true
   },
   "outputs": [
    {
     "data": {
      "text/plain": [
       "array([[14, 12, 12, ..., 26, 26, 26],\n",
       "       [14, 12, 12, ..., 26, 26, 26],\n",
       "       [14, 12, 12, ..., 26, 26, 26],\n",
       "       ...,\n",
       "       [13,  2, 14, ..., 26, 26, 26],\n",
       "       [13,  2, 14, ..., 26, 26, 26],\n",
       "       [13,  2, 14, ..., 26, 26, 26]], dtype=int32)"
      ]
     },
     "execution_count": 99,
     "metadata": {},
     "output_type": "execute_result"
    }
   ],
   "source": [
    "y_train_tf"
   ]
  },
  {
   "cell_type": "code",
   "execution_count": 100,
   "metadata": {},
   "outputs": [],
   "source": [
    "sequence_lengths = np.zeros(shape=(len(y_train)), dtype=np.int32)\n",
    "for i,target in enumerate(y_train):\n",
    "    sequence_lengths[i] = len(target)"
   ]
  },
  {
   "cell_type": "code",
   "execution_count": 101,
   "metadata": {
    "scrolled": true
   },
   "outputs": [
    {
     "data": {
      "text/plain": [
       "array([ 9,  9,  9,  9,  9,  9,  9,  9,  9,  9,  7,  7,  7,  7,  7,  7,  7,\n",
       "        7,  7,  7,  7,  7,  7,  7,  7,  7,  7,  7,  7,  7,  7,  7,  7,  7,\n",
       "        7,  7,  7,  7,  7,  7,  7,  7, 12, 12, 12, 12, 12, 12, 12, 12, 12,\n",
       "       12,  6,  6,  6,  6,  6,  6,  6,  6,  6,  6,  6,  6,  6,  6,  6,  6,\n",
       "        6,  6,  6,  6,  9,  9,  9,  9,  9,  9,  9,  9,  9,  9,  9,  9,  9,\n",
       "        9,  9,  3,  3,  3,  3,  3,  3,  3,  3,  3,  3,  3,  3,  3,  3, 10,\n",
       "       10, 10, 10, 10, 10, 10, 10, 10, 10, 10, 10, 10, 10,  9,  9,  9,  9,\n",
       "        9,  9,  9,  9,  9,  9,  9, 11,  7,  7,  7,  7,  7,  7,  7,  7,  7,\n",
       "        7,  3,  3,  3,  3,  3,  3,  3,  3,  3,  3,  3,  9,  9,  9,  9,  9,\n",
       "        9,  9,  9,  9,  9,  9,  9,  9,  9,  9,  7,  7,  7,  7,  7,  7,  7,\n",
       "        7,  7,  7,  7,  7,  7, 11, 11, 11, 11, 11, 11,  6,  6,  6,  6,  6,\n",
       "        6,  6,  6,  6,  6,  6,  6,  6,  6,  6,  6,  6,  6,  8,  8,  8,  8,\n",
       "        8,  8,  8,  8,  8,  8,  8,  8,  8,  8,  8,  8,  8,  3,  3,  3,  3,\n",
       "        3,  3,  3,  3,  3,  3,  3,  3,  8,  8,  8,  8,  8,  8,  8,  8,  8,\n",
       "        8,  8,  8,  8,  8,  8,  8,  8,  8,  8, 10, 10, 10, 10, 10, 10, 10,\n",
       "       10, 10, 10, 10, 10, 10, 10, 10, 10, 10,  6,  6,  6,  6,  6,  6,  6,\n",
       "        8,  8,  8,  8,  8,  8,  8,  8,  8,  8,  3,  3,  3,  3,  3,  3,  3,\n",
       "        3,  3,  3,  3,  3,  3,  3,  6,  6,  6,  6,  6,  6,  6,  6,  6,  6,\n",
       "        6,  6,  6,  6,  6,  6,  6,  6,  6,  6,  6,  6,  8,  8,  8,  8,  8,\n",
       "        8,  8,  8,  8,  8,  8,  5,  5,  5,  5,  5,  5,  5,  5,  5,  5,  5,\n",
       "        5,  5,  5, 10, 10, 10, 10, 10, 10, 10, 10, 10, 10, 10, 10, 10, 10,\n",
       "        6,  6,  6,  6,  6,  6,  6,  6,  6,  6,  6,  6,  6,  6,  6,  3,  3,\n",
       "        3,  3,  3,  3,  3,  3,  3,  3,  3,  3,  3,  3,  3,  5,  5,  5,  5,\n",
       "        5,  5,  5,  5,  5,  5,  5,  5,  5,  5,  5,  5,  5,  6,  6,  6,  6,\n",
       "        6,  6,  6,  6,  6,  6,  6,  6,  6,  6,  6,  6,  6,  6,  9,  9,  9,\n",
       "        9,  9,  9,  9,  9,  9,  9,  9,  9,  3,  3,  3,  3,  3,  3,  3,  3,\n",
       "        3,  3,  3,  3,  3,  3,  3,  3,  3,  3,  3,  3,  3,  7,  7,  7,  7,\n",
       "        7,  7,  7,  7,  7,  7,  7,  7,  7,  7, 13, 13, 13, 13, 13, 13, 13,\n",
       "       13, 13, 13, 13, 13, 10, 10, 10, 10, 10, 10, 10, 10, 10, 10, 10,  9,\n",
       "        9,  9,  9,  9,  9,  9,  9,  9,  9,  9, 12, 12, 12, 12, 12, 12, 12,\n",
       "       12, 12,  9,  9,  9,  9,  9,  9,  9, 10, 10, 10, 10, 10, 12, 12, 12,\n",
       "       12, 12, 12, 12, 12, 12, 12, 12, 12, 12,  9,  9,  9,  9,  9,  9,  9,\n",
       "        9,  9,  9,  9,  9,  9,  9,  9,  9,  9,  9,  9,  9,  9,  9,  3,  3,\n",
       "        3,  3,  3,  3,  3,  3,  3,  3,  3, 13, 13, 13, 13, 13, 13, 13, 13,\n",
       "       13,  8,  8,  8,  8,  8,  8,  8,  8,  8,  8,  8,  8,  8,  8,  8,  8,\n",
       "        8,  8,  8,  8,  8,  8,  8,  8,  8,  8,  8,  5,  5,  5,  5,  5,  5,\n",
       "        5,  5,  5,  5,  5,  5,  5,  5,  5,  5,  5,  5,  5,  5,  5,  5,  5,\n",
       "        5,  5,  5,  5,  5,  5,  5, 11, 11, 11, 11, 11, 11, 11, 11, 11, 11,\n",
       "       11, 11, 11, 13, 13, 13, 13, 13, 13, 13, 13, 13,  3,  3,  3,  3,  3,\n",
       "        3,  3,  3,  3,  3,  3,  3,  3,  3, 14, 14, 14, 14, 14, 14, 14, 14,\n",
       "       14, 14, 14, 14, 14, 14, 14, 14, 14, 14, 14, 14, 14, 14, 14, 14, 14,\n",
       "       14, 14, 14, 14, 14, 14, 14], dtype=int32)"
      ]
     },
     "execution_count": 101,
     "metadata": {},
     "output_type": "execute_result"
    }
   ],
   "source": [
    "sequence_lengths"
   ]
  },
  {
   "cell_type": "markdown",
   "metadata": {},
   "source": [
    "## Test data for TF"
   ]
  },
  {
   "cell_type": "code",
   "execution_count": 102,
   "metadata": {},
   "outputs": [
    {
     "data": {
      "text/plain": [
       "(6173, 30, 128)"
      ]
     },
     "execution_count": 102,
     "metadata": {},
     "output_type": "execute_result"
    }
   ],
   "source": [
    "X_test_tf = np.zeros(shape=(len(X_test),max_len, len(X[0][0])), dtype=np.float32)\n",
    "X_test_tf = X_test_tf\n",
    "X_test_tf.shape"
   ]
  },
  {
   "cell_type": "code",
   "execution_count": 103,
   "metadata": {},
   "outputs": [],
   "source": [
    "for i,seq in enumerate(X_test):\n",
    "    X_test_tf[i,0:len(seq),:] = seq"
   ]
  },
  {
   "cell_type": "code",
   "execution_count": 104,
   "metadata": {},
   "outputs": [
    {
     "data": {
      "text/plain": [
       "(6173, 30)"
      ]
     },
     "execution_count": 104,
     "metadata": {},
     "output_type": "execute_result"
    }
   ],
   "source": [
    "y_test_tf = np.zeros(shape=(len(y_test),max_len), dtype=np.int32)\n",
    "y_test_tf = y_test_tf +26\n",
    "y_test_tf.shape"
   ]
  },
  {
   "cell_type": "code",
   "execution_count": 105,
   "metadata": {},
   "outputs": [],
   "source": [
    "for i,target in enumerate(y_test):\n",
    "    y_test_tf[i,0:len(target)] = target"
   ]
  },
  {
   "cell_type": "code",
   "execution_count": 106,
   "metadata": {
    "scrolled": true
   },
   "outputs": [
    {
     "data": {
      "text/plain": [
       "array([[14, 12, 12, ..., 26, 26, 26],\n",
       "       [14, 12, 12, ..., 26, 26, 26],\n",
       "       [14, 12, 12, ..., 26, 26, 26],\n",
       "       ...,\n",
       "       [13,  2, 14, ..., 26, 26, 26],\n",
       "       [13,  2, 14, ..., 26, 26, 26],\n",
       "       [13,  2, 14, ..., 26, 26, 26]], dtype=int32)"
      ]
     },
     "execution_count": 106,
     "metadata": {},
     "output_type": "execute_result"
    }
   ],
   "source": [
    "y_test_tf"
   ]
  },
  {
   "cell_type": "code",
   "execution_count": 107,
   "metadata": {},
   "outputs": [],
   "source": [
    "sequence_lengths_test = np.zeros(shape=(len(y_test)), dtype=np.int32)\n",
    "for i,target in enumerate(y_test):\n",
    "    sequence_lengths_test[i] = len(target)"
   ]
  },
  {
   "cell_type": "code",
   "execution_count": 108,
   "metadata": {
    "scrolled": true
   },
   "outputs": [
    {
     "data": {
      "text/plain": [
       "array([ 9,  9,  9, ..., 14, 14, 14], dtype=int32)"
      ]
     },
     "execution_count": 108,
     "metadata": {},
     "output_type": "execute_result"
    }
   ],
   "source": [
    "sequence_lengths_test"
   ]
  },
  {
   "cell_type": "code",
   "execution_count": null,
   "metadata": {},
   "outputs": [],
   "source": []
  },
  {
   "cell_type": "code",
   "execution_count": null,
   "metadata": {},
   "outputs": [],
   "source": []
  },
  {
   "cell_type": "code",
   "execution_count": null,
   "metadata": {},
   "outputs": [],
   "source": []
  },
  {
   "cell_type": "markdown",
   "metadata": {},
   "source": [
    "### Train and evaluate the model"
   ]
  },
  {
   "cell_type": "code",
   "execution_count": 109,
   "metadata": {
    "scrolled": false
   },
   "outputs": [
    {
     "name": "stdout",
     "output_type": "stream",
     "text": [
      "(704, 30, 128)\n",
      "(704, 30)\n",
      "(704,)\n"
     ]
    }
   ],
   "source": [
    "print(X_train_tf.shape)\n",
    "print(y_train_tf.shape)\n",
    "print(sequence_lengths.shape)"
   ]
  },
  {
   "cell_type": "code",
   "execution_count": 110,
   "metadata": {},
   "outputs": [
    {
     "data": {
      "text/plain": [
       "array([0., 0., 0., 0., 0., 0., 0., 0., 0., 0., 0., 0., 0., 0., 0., 0., 0.,\n",
       "       0., 0., 0., 0., 0., 0., 0., 0., 0., 0., 0., 0., 0., 0., 0., 0., 0.,\n",
       "       0., 0., 0., 0., 0., 0., 0., 0., 0., 0., 0., 0., 0., 0., 0., 0., 0.,\n",
       "       0., 0., 0., 0., 0., 0., 0., 0., 0., 0., 0., 0., 0., 0., 0., 0., 0.,\n",
       "       0., 0., 0., 0., 0., 0., 0., 0., 0., 0., 0., 0., 0., 0., 0., 0., 0.,\n",
       "       0., 0., 0., 0., 0., 0., 0., 0., 0., 0., 0., 0., 0., 0., 0., 0., 0.,\n",
       "       0., 0., 0., 0., 0., 0., 0., 0., 0., 0., 0., 0., 0., 0., 0., 0., 0.,\n",
       "       0., 0., 0., 0., 0., 0., 0., 0., 0.], dtype=float32)"
      ]
     },
     "execution_count": 110,
     "metadata": {},
     "output_type": "execute_result"
    }
   ],
   "source": [
    "X_train_tf[0,9,:]"
   ]
  },
  {
   "cell_type": "code",
   "execution_count": 111,
   "metadata": {},
   "outputs": [
    {
     "data": {
      "text/plain": [
       "array([ 9,  9,  9,  9,  9,  9,  9,  9,  9,  9,  7,  7,  7,  7,  7,  7,  7,\n",
       "        7,  7,  7,  7,  7,  7,  7,  7,  7,  7,  7,  7,  7,  7,  7,  7,  7,\n",
       "        7,  7,  7,  7,  7,  7,  7,  7, 12, 12, 12, 12, 12, 12, 12, 12, 12,\n",
       "       12,  6,  6,  6,  6,  6,  6,  6,  6,  6,  6,  6,  6,  6,  6,  6,  6,\n",
       "        6,  6,  6,  6,  9,  9,  9,  9,  9,  9,  9,  9,  9,  9,  9,  9,  9,\n",
       "        9,  9,  3,  3,  3,  3,  3,  3,  3,  3,  3,  3,  3,  3,  3,  3, 10,\n",
       "       10, 10, 10, 10, 10, 10, 10, 10, 10, 10, 10, 10, 10,  9,  9,  9,  9,\n",
       "        9,  9,  9,  9,  9,  9,  9, 11,  7,  7,  7,  7,  7,  7,  7,  7,  7,\n",
       "        7,  3,  3,  3,  3,  3,  3,  3,  3,  3,  3,  3,  9,  9,  9,  9,  9,\n",
       "        9,  9,  9,  9,  9,  9,  9,  9,  9,  9,  7,  7,  7,  7,  7,  7,  7,\n",
       "        7,  7,  7,  7,  7,  7, 11, 11, 11, 11, 11, 11,  6,  6,  6,  6,  6,\n",
       "        6,  6,  6,  6,  6,  6,  6,  6,  6,  6,  6,  6,  6,  8,  8,  8,  8,\n",
       "        8,  8,  8,  8,  8,  8,  8,  8,  8,  8,  8,  8,  8,  3,  3,  3,  3,\n",
       "        3,  3,  3,  3,  3,  3,  3,  3,  8,  8,  8,  8,  8,  8,  8,  8,  8,\n",
       "        8,  8,  8,  8,  8,  8,  8,  8,  8,  8, 10, 10, 10, 10, 10, 10, 10,\n",
       "       10, 10, 10, 10, 10, 10, 10, 10, 10, 10,  6,  6,  6,  6,  6,  6,  6,\n",
       "        8,  8,  8,  8,  8,  8,  8,  8,  8,  8,  3,  3,  3,  3,  3,  3,  3,\n",
       "        3,  3,  3,  3,  3,  3,  3,  6,  6,  6,  6,  6,  6,  6,  6,  6,  6,\n",
       "        6,  6,  6,  6,  6,  6,  6,  6,  6,  6,  6,  6,  8,  8,  8,  8,  8,\n",
       "        8,  8,  8,  8,  8,  8,  5,  5,  5,  5,  5,  5,  5,  5,  5,  5,  5,\n",
       "        5,  5,  5, 10, 10, 10, 10, 10, 10, 10, 10, 10, 10, 10, 10, 10, 10,\n",
       "        6,  6,  6,  6,  6,  6,  6,  6,  6,  6,  6,  6,  6,  6,  6,  3,  3,\n",
       "        3,  3,  3,  3,  3,  3,  3,  3,  3,  3,  3,  3,  3,  5,  5,  5,  5,\n",
       "        5,  5,  5,  5,  5,  5,  5,  5,  5,  5,  5,  5,  5,  6,  6,  6,  6,\n",
       "        6,  6,  6,  6,  6,  6,  6,  6,  6,  6,  6,  6,  6,  6,  9,  9,  9,\n",
       "        9,  9,  9,  9,  9,  9,  9,  9,  9,  3,  3,  3,  3,  3,  3,  3,  3,\n",
       "        3,  3,  3,  3,  3,  3,  3,  3,  3,  3,  3,  3,  3,  7,  7,  7,  7,\n",
       "        7,  7,  7,  7,  7,  7,  7,  7,  7,  7, 13, 13, 13, 13, 13, 13, 13,\n",
       "       13, 13, 13, 13, 13, 10, 10, 10, 10, 10, 10, 10, 10, 10, 10, 10,  9,\n",
       "        9,  9,  9,  9,  9,  9,  9,  9,  9,  9, 12, 12, 12, 12, 12, 12, 12,\n",
       "       12, 12,  9,  9,  9,  9,  9,  9,  9, 10, 10, 10, 10, 10, 12, 12, 12,\n",
       "       12, 12, 12, 12, 12, 12, 12, 12, 12, 12,  9,  9,  9,  9,  9,  9,  9,\n",
       "        9,  9,  9,  9,  9,  9,  9,  9,  9,  9,  9,  9,  9,  9,  9,  3,  3,\n",
       "        3,  3,  3,  3,  3,  3,  3,  3,  3, 13, 13, 13, 13, 13, 13, 13, 13,\n",
       "       13,  8,  8,  8,  8,  8,  8,  8,  8,  8,  8,  8,  8,  8,  8,  8,  8,\n",
       "        8,  8,  8,  8,  8,  8,  8,  8,  8,  8,  8,  5,  5,  5,  5,  5,  5,\n",
       "        5,  5,  5,  5,  5,  5,  5,  5,  5,  5,  5,  5,  5,  5,  5,  5,  5,\n",
       "        5,  5,  5,  5,  5,  5,  5, 11, 11, 11, 11, 11, 11, 11, 11, 11, 11,\n",
       "       11, 11, 11, 13, 13, 13, 13, 13, 13, 13, 13, 13,  3,  3,  3,  3,  3,\n",
       "        3,  3,  3,  3,  3,  3,  3,  3,  3, 14, 14, 14, 14, 14, 14, 14, 14,\n",
       "       14, 14, 14, 14, 14, 14, 14, 14, 14, 14, 14, 14, 14, 14, 14, 14, 14,\n",
       "       14, 14, 14, 14, 14, 14, 14], dtype=int32)"
      ]
     },
     "execution_count": 111,
     "metadata": {},
     "output_type": "execute_result"
    }
   ],
   "source": [
    "sequence_lengths"
   ]
  },
  {
   "cell_type": "code",
   "execution_count": null,
   "metadata": {},
   "outputs": [],
   "source": []
  },
  {
   "cell_type": "markdown",
   "metadata": {},
   "source": [
    "x = tf.placeholder(dtype = tf.float32, shape = [None, 30, 128])\n",
    "y = tf.placeholder(dtype = tf.int32, shape = [None, 30])\n",
    "seq_len = tf.placeholder(dtype = tf.int32, shape = [None])"
   ]
  },
  {
   "cell_type": "markdown",
   "metadata": {},
   "source": [
    "weights = tf.get_variable(\"weights\", [128,27])\n",
    "matricized_x_t = tf.reshape(x, [-1,128])\n",
    "matricized_unary_scores = tf.matmul(matricized_x_t, weights)\n",
    "unary_scores = tf.reshape(matricized_unary_scores, [len(X_train), max_len, 27])\n",
    "print(unary_scores)"
   ]
  },
  {
   "cell_type": "markdown",
   "metadata": {},
   "source": [
    "log_likelihood, transition_params = tf.contrib.crf.crf_log_likelihood(unary_scores, y, seq_len)\n",
    "loss = tf.reduce_mean(-log_likelihood)\n",
    "train_op = tf.train.GradientDescentOptimizer(0.01).minimize(loss)"
   ]
  },
  {
   "cell_type": "code",
   "execution_count": 112,
   "metadata": {
    "scrolled": true
   },
   "outputs": [
    {
     "name": "stdout",
     "output_type": "stream",
     "text": [
      "Tensor(\"sub_1:0\", shape=(704,), dtype=float32)\n",
      "epoch 0 - loss : 25.948698043823242\n",
      "epoch 100 - loss : 8.266121864318848\n",
      "epoch 200 - loss : 6.332079887390137\n",
      "epoch 300 - loss : 5.411138534545898\n",
      "epoch 400 - loss : 4.839775562286377\n",
      "epoch 500 - loss : 4.440479278564453\n",
      "epoch 600 - loss : 4.140608310699463\n",
      "epoch 700 - loss : 3.9040944576263428\n",
      "epoch 800 - loss : 3.7108709812164307\n",
      "epoch 900 - loss : 3.5488028526306152\n",
      "  - acc:   0.7806828142035616\n"
     ]
    }
   ],
   "source": [
    "tf.set_random_seed(12)\n",
    "with tf.Graph().as_default():\n",
    "    x = tf.placeholder(dtype = tf.float32, shape = [None, max_len, 128])\n",
    "    y = tf.placeholder(dtype = tf.int32, shape = [None, max_len])\n",
    "    seq_len = tf.placeholder(dtype = tf.int32, shape = [None])\n",
    "    \n",
    "    weights = tf.get_variable(\"weights\", [128,27])\n",
    "    matricized_x_t = tf.reshape(x, [-1,128])\n",
    "    matricized_unary_scores = tf.matmul(matricized_x_t, weights)\n",
    "    unary_scores = tf.reshape(matricized_unary_scores, [len(X_train), max_len, 27])\n",
    "    \n",
    "    log_likelihood, transition_params = tf.contrib.crf.crf_log_likelihood(unary_scores, y, seq_len)\n",
    "    print(log_likelihood)\n",
    "    loss = tf.reduce_mean(-log_likelihood)\n",
    "    \n",
    "    #test phase\n",
    "    x_test_ = tf.constant(X_test_tf, dtype=tf.float32)\n",
    "    y_test_ = tf.constant(y_test_tf, dtype=tf.int32)\n",
    "    seq_len_test_ = tf.constant(sequence_lengths_test, dtype=tf.int32)\n",
    "    matricized_x_test = tf.reshape(x_test_,[-1,128])\n",
    "    matricized_unary_scores_test = tf.matmul(matricized_x_test, weights)\n",
    "    unary_scores_test = tf.reshape(matricized_unary_scores_test, [len(X_test), max_len, 27])    \n",
    "    \n",
    "    viterbi_sequence, viterbi_score = tf.contrib.crf.crf_decode(unary_scores_test, transition_params, seq_len_test_)\n",
    "    \n",
    "    #mask_test = tf.sequence_mask(seq_len_test_, max_len)\n",
    "    #print(mask_test.shape)\n",
    "    #pred_test = tf.boolean_mask(viterbi_sequence, mask_test)\n",
    "    #print(pred_test)\n",
    "    #true_test = tf.boolean_mask(y_test_, mask_test)\n",
    "    \n",
    "    #print(pred_test.shape, true_test.shape)\n",
    "    \n",
    "    #losses = tf.nn.sparse_softmax_cross_entropy_with_logits(logits=unary_scores, labels=y)\n",
    "    #mask = tf.sequence_mask(seq_len)\n",
    "    #losses = tf.boolean_mask(losses, mask)\n",
    "    \n",
    "    #loss = tf.reduce_mean(losses)\n",
    "    \n",
    "    train_op = tf.train.GradientDescentOptimizer(0.1).minimize(loss)   \n",
    "    \n",
    "    with tf.Session() as sess:\n",
    "        sess.run(tf.global_variables_initializer())\n",
    "\n",
    "        weights_val_ev = []\n",
    "        transition_ev = []\n",
    "        for i in range(1000):\n",
    "            _,loss_val = sess.run([train_op,loss], feed_dict={x:X_train_tf, y:y_train_tf, seq_len:sequence_lengths})\n",
    "            \n",
    "            if i%100 == 0:\n",
    "                print('epoch {} - loss : {}'.format(i, loss_val))\n",
    "        _,loss_val, viterbi_sequence = sess.run([train_op,loss,viterbi_sequence], feed_dict={x:X_train_tf, y:y_train_tf, seq_len:sequence_lengths})    \n",
    "        # Accuracy measure on the pred_seq data\n",
    "        nb_correct = 0\n",
    "        nb_img = 0\n",
    "        for i,sequence in enumerate(y_test):\n",
    "            nb_img += sequence_lengths_test[i]\n",
    "            nb_correct_curr = np.sum(y_test[i]==pred_seq[i][0:sequence_lengths_test[i]])\n",
    "            nb_correct += nb_correct_curr\n",
    "\n",
    "        accuracy = nb_correct / nb_img\n",
    "        print(\"  - acc:  \", accuracy)\n",
    "        \n",
    "            #if i%10 == 0:\n",
    "            #    print('epoch ',i)\n",
    "            #    print(\"  - loss: \", loss_val)\n",
    "                \n",
    "                # Accuracy measure on the pred_seq data\n",
    "            #    nb_correct = 0\n",
    "            #    nb_img = 0\n",
    "            #    for i,sequence in enumerate(y_test):\n",
    "            #        nb_img += sequence_lengths_test[i]\n",
    "            #        nb_correct_curr = np.sum(y_test[i]==pred_seq[i][0:sequence_lengths_test[i]])\n",
    "            #        nb_correct += nb_correct_curr\n",
    "\n",
    "            #    accuracy = nb_correct / nb_img\n",
    "            #    print(\"  - acc:  \", accuracy)\n",
    "                \n",
    "                \n",
    "                \n",
    "                #print(\"  - acc:  \", accuracy)\n",
    "                \n",
    "                #weights_val_ev.append(weights_val)\n",
    "                #transition_ev.append(transition_val)"
   ]
  },
  {
   "cell_type": "code",
   "execution_count": 113,
   "metadata": {
    "scrolled": true
   },
   "outputs": [
    {
     "name": "stdout",
     "output_type": "stream",
     "text": [
      "(6173,)\n",
      "[14 12 12  0 13  3  8 13  6]\n"
     ]
    }
   ],
   "source": [
    "print(y_test.shape)\n",
    "print(y_test[0])"
   ]
  },
  {
   "cell_type": "code",
   "execution_count": 114,
   "metadata": {},
   "outputs": [
    {
     "name": "stdout",
     "output_type": "stream",
     "text": [
      "(6173,)\n",
      "9\n"
     ]
    }
   ],
   "source": [
    "print(sequence_lengths_test.shape)\n",
    "print(sequence_lengths_test[0])"
   ]
  },
  {
   "cell_type": "code",
   "execution_count": 115,
   "metadata": {},
   "outputs": [
    {
     "data": {
      "text/plain": [
       "(6173, 30)"
      ]
     },
     "execution_count": 115,
     "metadata": {},
     "output_type": "execute_result"
    }
   ],
   "source": [
    "pred_seq.shape"
   ]
  },
  {
   "cell_type": "code",
   "execution_count": 116,
   "metadata": {},
   "outputs": [
    {
     "name": "stdout",
     "output_type": "stream",
     "text": [
      "0.7806828142035616\n"
     ]
    }
   ],
   "source": [
    "# Accuracy of the prediction\n",
    "nb_correct = 0\n",
    "nb_img = 0\n",
    "for i,sequence in enumerate(y_test):\n",
    "    nb_img += sequence_lengths_test[i]\n",
    "    nb_correct_curr = np.sum(y_test[i]==pred_seq[i][0:sequence_lengths_test[i]])\n",
    "    nb_correct += nb_correct_curr\n",
    "\n",
    "accuracy = nb_correct / nb_img\n",
    "print(accuracy)"
   ]
  },
  {
   "cell_type": "code",
   "execution_count": 117,
   "metadata": {
    "scrolled": true
   },
   "outputs": [
    {
     "ename": "NameError",
     "evalue": "name 'viterbi_seq_test' is not defined",
     "output_type": "error",
     "traceback": [
      "\u001b[0;31m---------------------------------------------------------------------------\u001b[0m",
      "\u001b[0;31mNameError\u001b[0m                                 Traceback (most recent call last)",
      "\u001b[0;32m<ipython-input-117-47ee64489d86>\u001b[0m in \u001b[0;36m<module>\u001b[0;34m\u001b[0m\n\u001b[1;32m      1\u001b[0m \u001b[0mi\u001b[0m\u001b[0;34m=\u001b[0m\u001b[0;36m1\u001b[0m\u001b[0;34m\u001b[0m\u001b[0m\n\u001b[0;32m----> 2\u001b[0;31m \u001b[0mnp\u001b[0m\u001b[0;34m.\u001b[0m\u001b[0msum\u001b[0m\u001b[0;34m(\u001b[0m\u001b[0my_test_tf\u001b[0m\u001b[0;34m[\u001b[0m\u001b[0mi\u001b[0m\u001b[0;34m]\u001b[0m\u001b[0;34m[\u001b[0m\u001b[0;36m0\u001b[0m\u001b[0;34m:\u001b[0m\u001b[0msequence_lengths_test\u001b[0m\u001b[0;34m[\u001b[0m\u001b[0mi\u001b[0m\u001b[0;34m]\u001b[0m\u001b[0;34m]\u001b[0m \u001b[0;34m==\u001b[0m \u001b[0mviterbi_seq_test\u001b[0m\u001b[0;34m[\u001b[0m\u001b[0mi\u001b[0m\u001b[0;34m]\u001b[0m\u001b[0;34m[\u001b[0m\u001b[0;36m0\u001b[0m\u001b[0;34m:\u001b[0m\u001b[0msequence_lengths_test\u001b[0m\u001b[0;34m[\u001b[0m\u001b[0mi\u001b[0m\u001b[0;34m]\u001b[0m\u001b[0;34m]\u001b[0m\u001b[0;34m)\u001b[0m\u001b[0;34m\u001b[0m\u001b[0m\n\u001b[0m",
      "\u001b[0;31mNameError\u001b[0m: name 'viterbi_seq_test' is not defined"
     ]
    }
   ],
   "source": [
    "i=1\n",
    "np.sum(y_test_tf[i][0:sequence_lengths_test[i]] == viterbi_seq_test[i][0:sequence_lengths_test[i]])"
   ]
  },
  {
   "cell_type": "code",
   "execution_count": null,
   "metadata": {
    "scrolled": true
   },
   "outputs": [],
   "source": [
    "viterbi_seq_test[0][0:sequence_lengths_test[0]]"
   ]
  },
  {
   "cell_type": "code",
   "execution_count": null,
   "metadata": {},
   "outputs": [],
   "source": []
  },
  {
   "cell_type": "code",
   "execution_count": null,
   "metadata": {},
   "outputs": [],
   "source": [
    "import seaborn as sns"
   ]
  },
  {
   "cell_type": "code",
   "execution_count": null,
   "metadata": {},
   "outputs": [],
   "source": [
    "transition_start = transition_ev[0]\n",
    "sns.heatmap(transition_start)"
   ]
  },
  {
   "cell_type": "code",
   "execution_count": null,
   "metadata": {},
   "outputs": [],
   "source": [
    "transition_end = transition_ev[-1]\n",
    "sns.heatmap(transition_end)"
   ]
  },
  {
   "cell_type": "code",
   "execution_count": null,
   "metadata": {},
   "outputs": [],
   "source": [
    "y_train"
   ]
  },
  {
   "cell_type": "code",
   "execution_count": null,
   "metadata": {
    "scrolled": true
   },
   "outputs": [],
   "source": [
    "weights_val.shape"
   ]
  },
  {
   "cell_type": "code",
   "execution_count": null,
   "metadata": {
    "scrolled": true
   },
   "outputs": [],
   "source": [
    "sns.heatmap(weights_val)"
   ]
  },
  {
   "cell_type": "code",
   "execution_count": null,
   "metadata": {},
   "outputs": [],
   "source": [
    "letter_c_weights = weights_val[:,3]\n",
    "letter_c_weights = np.reshape(letter_c_weights,newshape=(16,8))\n",
    "sns.heatmap(letter_c_weights)"
   ]
  },
  {
   "cell_type": "code",
   "execution_count": null,
   "metadata": {},
   "outputs": [],
   "source": []
  },
  {
   "cell_type": "code",
   "execution_count": null,
   "metadata": {},
   "outputs": [],
   "source": []
  },
  {
   "cell_type": "code",
   "execution_count": null,
   "metadata": {},
   "outputs": [],
   "source": []
  },
  {
   "cell_type": "code",
   "execution_count": null,
   "metadata": {},
   "outputs": [],
   "source": []
  },
  {
   "cell_type": "code",
   "execution_count": null,
   "metadata": {},
   "outputs": [],
   "source": []
  },
  {
   "cell_type": "code",
   "execution_count": null,
   "metadata": {},
   "outputs": [],
   "source": []
  },
  {
   "cell_type": "code",
   "execution_count": null,
   "metadata": {},
   "outputs": [],
   "source": []
  }
 ],
 "metadata": {
  "kernelspec": {
   "display_name": "Python tensorflow",
   "language": "python",
   "name": "tensorflow"
  },
  "language_info": {
   "codemirror_mode": {
    "name": "ipython",
    "version": 3
   },
   "file_extension": ".py",
   "mimetype": "text/x-python",
   "name": "python",
   "nbconvert_exporter": "python",
   "pygments_lexer": "ipython3",
   "version": "3.6.6"
  }
 },
 "nbformat": 4,
 "nbformat_minor": 2
}
